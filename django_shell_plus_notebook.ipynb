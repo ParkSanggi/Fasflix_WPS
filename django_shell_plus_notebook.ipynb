{
 "cells": [
  {
   "cell_type": "code",
   "execution_count": 1,
   "metadata": {},
   "outputs": [],
   "source": [
    "q = Q(like_or_dislike=1) | Q(marked=True)"
   ]
  },
  {
   "cell_type": "code",
   "execution_count": 6,
   "metadata": {
    "scrolled": false
   },
   "outputs": [],
   "source": [
    "like_list = LikeDisLikeMarked.objects.filter(Q(sub_user=207), q).select_related('movie').prefetch_related('movie__genre')\n"
   ]
  },
  {
   "cell_type": "code",
   "execution_count": 33,
   "metadata": {},
   "outputs": [],
   "source": []
  },
  {
   "cell_type": "code",
   "execution_count": 70,
   "metadata": {
    "scrolled": true
   },
   "outputs": [],
   "source": [
    "A = set()\n",
    "B = set()\n",
    "import random as rnd\n",
    "\n",
    "for like in like_list:\n",
    "    A.update(set(like.movie.genre.values_list('name', flat=True)))\n",
    "#     A.update(set(like.movie.actors.values_list('name', flat=True)))\n",
    "random_list1 = Movie.objects.filter(genre__name__in=list(A)).prefetch_related('genre').distinct()\n",
    "random_list2 = Movie.objects.exclude(like__sub_user=207, like__like_or_dislike=2).prefetch_related('genre')\n",
    "random_list3 = random_list1.intersection(random_list2)\n",
    "random_list4 = rnd.sample(list(random_list3), 30)\n",
    "\n",
    "for randomm in random_list4:\n",
    "    B.update(set(randomm.genre.values_list('name', flat=True)))\n",
    "#     B.update(set(random.actors.values_list('name', flat=True)))\n",
    "\n",
    "# print(B)"
   ]
  },
  {
   "cell_type": "code",
   "execution_count": 71,
   "metadata": {},
   "outputs": [
    {
     "name": "stdout",
     "output_type": "stream",
     "text": [
      "0.16981132075471697\n",
      "9\n",
      "53\n",
      "{'시대물', '일본 영화', '스릴러·초자연', '스릴러', '십대 영화', 'SF & 판타지', '액션 & 어드벤처·블록버스터', '액션·코미디', '미국 영화', '디즈니 영화', '다큐멘터리·사회 & 문화', '액션 & 어드벤처·범죄', '영화·실화 바탕', '액션 & 어드벤처', '영화·호러', '영화·어린이 & 가족', 'LGBTQ 영화', '드라마 장르 영화·로맨스', '인디 영화', '액션·스릴러', '다큐멘터리', '고전 영화', '코미디', '한국 영화', '디즈니 가족 장편영화', '독일 영화', '비명 유발·10대', '액션·SF & 판타지', '십대 로맨스', '여름과 관련된 영화', '코믹북&슈퍼히어로 영화', '미치도록 웃긴영화', '이탈리아 영화', '피투성이 호러 영화', '액션 & 어드벤처·군사', '역사 다큐멘터리', '영어 공부하기 좋은 영화', 'ost가 좋은 영화', '블록버스터 코미디', '영화·로맨스', '드라마 장르 영화·범죄', '전기 영화', '스릴러·범죄', '정치 다큐멘터리', '로맨틱 코미디', '블랙 코미디', '인기 로맨스 영화', '코미디·가족', '영화·도서 원작', '드라마 장르 영화', '록 & 팝 콘서트', '미스터리', '영국 영화'}\n"
     ]
    }
   ],
   "source": [
    "print(len(A & B)/len(A | B))\n",
    "print(len(A & B))\n",
    "print(len(A | B))\n",
    "# print(A&B)\n",
    "print(A|B)"
   ]
  },
  {
   "cell_type": "code",
   "execution_count": null,
   "metadata": {},
   "outputs": [],
   "source": []
  },
  {
   "cell_type": "code",
   "execution_count": null,
   "metadata": {},
   "outputs": [],
   "source": []
  }
 ],
 "metadata": {
  "kernelspec": {
   "display_name": "Django Shell-Plus",
   "language": "python",
   "name": "django_extensions"
  },
  "language_info": {
   "codemirror_mode": {
    "name": "ipython",
    "version": 3
   },
   "file_extension": ".py",
   "mimetype": "text/x-python",
   "name": "python",
   "nbconvert_exporter": "python",
   "pygments_lexer": "ipython3",
   "version": "3.6.8"
  }
 },
 "nbformat": 4,
 "nbformat_minor": 2
}
